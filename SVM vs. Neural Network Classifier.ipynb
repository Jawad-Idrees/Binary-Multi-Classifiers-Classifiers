{
 "cells": [
  {
   "cell_type": "markdown",
   "id": "a8e0fe5b",
   "metadata": {},
   "source": [
    "#### In this file, SVM and Vanilla Classifier has been created."
   ]
  },
  {
   "cell_type": "code",
   "execution_count": 1,
   "id": "7cf27cdf",
   "metadata": {},
   "outputs": [],
   "source": [
    "import pandas as pd\n"
   ]
  },
  {
   "cell_type": "markdown",
   "id": "42a14022",
   "metadata": {},
   "source": [
    "* Titanic dataset is being used for the comparison here.\n"
   ]
  },
  {
   "cell_type": "code",
   "execution_count": 2,
   "id": "9886f1dd",
   "metadata": {},
   "outputs": [],
   "source": [
    "dataset= pd.read_csv('Titanic_Dataset.csv', index_col=False) "
   ]
  },
  {
   "cell_type": "code",
   "execution_count": 3,
   "id": "2b84fe43",
   "metadata": {},
   "outputs": [],
   "source": [
    "dataset= dataset.drop(['Unnamed: 0', 'alive', 'embark_town', 'class', 'sibsp','sex', 'deck','parch'], axis=1)"
   ]
  },
  {
   "cell_type": "code",
   "execution_count": 4,
   "id": "f37f9e06",
   "metadata": {},
   "outputs": [
    {
     "data": {
      "text/plain": [
       "Index(['survived', 'pclass', 'age', 'fare', 'embarked', 'who', 'adult_male',\n",
       "       'alone'],\n",
       "      dtype='object')"
      ]
     },
     "execution_count": 4,
     "metadata": {},
     "output_type": "execute_result"
    }
   ],
   "source": [
    "dataset.columns"
   ]
  },
  {
   "cell_type": "markdown",
   "id": "f08d98cd",
   "metadata": {},
   "source": [
    "# Ordinal Encoding to Impute Missing Values\n"
   ]
  },
  {
   "cell_type": "code",
   "execution_count": 5,
   "id": "b98dae32",
   "metadata": {},
   "outputs": [
    {
     "data": {
      "text/html": [
       "<div>\n",
       "<style scoped>\n",
       "    .dataframe tbody tr th:only-of-type {\n",
       "        vertical-align: middle;\n",
       "    }\n",
       "\n",
       "    .dataframe tbody tr th {\n",
       "        vertical-align: top;\n",
       "    }\n",
       "\n",
       "    .dataframe thead th {\n",
       "        text-align: right;\n",
       "    }\n",
       "</style>\n",
       "<table border=\"1\" class=\"dataframe\">\n",
       "  <thead>\n",
       "    <tr style=\"text-align: right;\">\n",
       "      <th></th>\n",
       "      <th>survived</th>\n",
       "      <th>pclass</th>\n",
       "      <th>age</th>\n",
       "      <th>fare</th>\n",
       "      <th>embarked</th>\n",
       "      <th>who</th>\n",
       "      <th>adult_male</th>\n",
       "      <th>alone</th>\n",
       "    </tr>\n",
       "  </thead>\n",
       "  <tbody>\n",
       "    <tr>\n",
       "      <th>0</th>\n",
       "      <td>0.0</td>\n",
       "      <td>2.0</td>\n",
       "      <td>28.0</td>\n",
       "      <td>18.0</td>\n",
       "      <td>2.0</td>\n",
       "      <td>1.0</td>\n",
       "      <td>1.0</td>\n",
       "      <td>0.0</td>\n",
       "    </tr>\n",
       "    <tr>\n",
       "      <th>1</th>\n",
       "      <td>1.0</td>\n",
       "      <td>0.0</td>\n",
       "      <td>51.0</td>\n",
       "      <td>207.0</td>\n",
       "      <td>0.0</td>\n",
       "      <td>2.0</td>\n",
       "      <td>0.0</td>\n",
       "      <td>0.0</td>\n",
       "    </tr>\n",
       "    <tr>\n",
       "      <th>2</th>\n",
       "      <td>1.0</td>\n",
       "      <td>2.0</td>\n",
       "      <td>34.0</td>\n",
       "      <td>41.0</td>\n",
       "      <td>2.0</td>\n",
       "      <td>2.0</td>\n",
       "      <td>0.0</td>\n",
       "      <td>1.0</td>\n",
       "    </tr>\n",
       "    <tr>\n",
       "      <th>3</th>\n",
       "      <td>1.0</td>\n",
       "      <td>0.0</td>\n",
       "      <td>47.0</td>\n",
       "      <td>189.0</td>\n",
       "      <td>2.0</td>\n",
       "      <td>2.0</td>\n",
       "      <td>0.0</td>\n",
       "      <td>0.0</td>\n",
       "    </tr>\n",
       "    <tr>\n",
       "      <th>4</th>\n",
       "      <td>0.0</td>\n",
       "      <td>2.0</td>\n",
       "      <td>47.0</td>\n",
       "      <td>43.0</td>\n",
       "      <td>2.0</td>\n",
       "      <td>1.0</td>\n",
       "      <td>1.0</td>\n",
       "      <td>1.0</td>\n",
       "    </tr>\n",
       "    <tr>\n",
       "      <th>...</th>\n",
       "      <td>...</td>\n",
       "      <td>...</td>\n",
       "      <td>...</td>\n",
       "      <td>...</td>\n",
       "      <td>...</td>\n",
       "      <td>...</td>\n",
       "      <td>...</td>\n",
       "      <td>...</td>\n",
       "    </tr>\n",
       "    <tr>\n",
       "      <th>886</th>\n",
       "      <td>0.0</td>\n",
       "      <td>1.0</td>\n",
       "      <td>35.0</td>\n",
       "      <td>85.0</td>\n",
       "      <td>2.0</td>\n",
       "      <td>1.0</td>\n",
       "      <td>1.0</td>\n",
       "      <td>1.0</td>\n",
       "    </tr>\n",
       "    <tr>\n",
       "      <th>887</th>\n",
       "      <td>1.0</td>\n",
       "      <td>0.0</td>\n",
       "      <td>24.0</td>\n",
       "      <td>153.0</td>\n",
       "      <td>2.0</td>\n",
       "      <td>2.0</td>\n",
       "      <td>0.0</td>\n",
       "      <td>1.0</td>\n",
       "    </tr>\n",
       "    <tr>\n",
       "      <th>888</th>\n",
       "      <td>0.0</td>\n",
       "      <td>2.0</td>\n",
       "      <td>NaN</td>\n",
       "      <td>131.0</td>\n",
       "      <td>2.0</td>\n",
       "      <td>2.0</td>\n",
       "      <td>0.0</td>\n",
       "      <td>0.0</td>\n",
       "    </tr>\n",
       "    <tr>\n",
       "      <th>889</th>\n",
       "      <td>1.0</td>\n",
       "      <td>0.0</td>\n",
       "      <td>34.0</td>\n",
       "      <td>153.0</td>\n",
       "      <td>0.0</td>\n",
       "      <td>1.0</td>\n",
       "      <td>1.0</td>\n",
       "      <td>1.0</td>\n",
       "    </tr>\n",
       "    <tr>\n",
       "      <th>890</th>\n",
       "      <td>0.0</td>\n",
       "      <td>2.0</td>\n",
       "      <td>42.0</td>\n",
       "      <td>30.0</td>\n",
       "      <td>1.0</td>\n",
       "      <td>1.0</td>\n",
       "      <td>1.0</td>\n",
       "      <td>1.0</td>\n",
       "    </tr>\n",
       "  </tbody>\n",
       "</table>\n",
       "<p>891 rows × 8 columns</p>\n",
       "</div>"
      ],
      "text/plain": [
       "     survived  pclass   age   fare  embarked  who  adult_male  alone\n",
       "0         0.0     2.0  28.0   18.0       2.0  1.0         1.0    0.0\n",
       "1         1.0     0.0  51.0  207.0       0.0  2.0         0.0    0.0\n",
       "2         1.0     2.0  34.0   41.0       2.0  2.0         0.0    1.0\n",
       "3         1.0     0.0  47.0  189.0       2.0  2.0         0.0    0.0\n",
       "4         0.0     2.0  47.0   43.0       2.0  1.0         1.0    1.0\n",
       "..        ...     ...   ...    ...       ...  ...         ...    ...\n",
       "886       0.0     1.0  35.0   85.0       2.0  1.0         1.0    1.0\n",
       "887       1.0     0.0  24.0  153.0       2.0  2.0         0.0    1.0\n",
       "888       0.0     2.0   NaN  131.0       2.0  2.0         0.0    0.0\n",
       "889       1.0     0.0  34.0  153.0       0.0  1.0         1.0    1.0\n",
       "890       0.0     2.0  42.0   30.0       1.0  1.0         1.0    1.0\n",
       "\n",
       "[891 rows x 8 columns]"
      ]
     },
     "execution_count": 5,
     "metadata": {},
     "output_type": "execute_result"
    }
   ],
   "source": [
    "from sklearn.preprocessing import OrdinalEncoder\n",
    "from sklearn.preprocessing import MinMaxScaler\n",
    "from sklearn.model_selection import train_test_split\n",
    "\n",
    "\n",
    "oencoder= OrdinalEncoder()\n",
    "encoded= oencoder.fit_transform(dataset)\n",
    "df=pd.DataFrame(data=encoded, columns= dataset.columns)\n",
    "df"
   ]
  },
  {
   "cell_type": "markdown",
   "id": "ed7bd651",
   "metadata": {},
   "source": [
    "# Missing Values Imputation"
   ]
  },
  {
   "cell_type": "code",
   "execution_count": 6,
   "id": "9e60ad38",
   "metadata": {},
   "outputs": [
    {
     "data": {
      "text/plain": [
       "survived        0\n",
       "pclass          0\n",
       "age           177\n",
       "fare            0\n",
       "embarked        2\n",
       "who             0\n",
       "adult_male      0\n",
       "alone           0\n",
       "dtype: int64"
      ]
     },
     "execution_count": 6,
     "metadata": {},
     "output_type": "execute_result"
    }
   ],
   "source": [
    "dataset.isna().sum()"
   ]
  },
  {
   "cell_type": "markdown",
   "id": "2b415bb9",
   "metadata": {},
   "source": [
    "* Using KNNImputer() to impute missing values."
   ]
  },
  {
   "cell_type": "code",
   "execution_count": 7,
   "id": "08316c88",
   "metadata": {},
   "outputs": [
    {
     "data": {
      "text/html": [
       "<div>\n",
       "<style scoped>\n",
       "    .dataframe tbody tr th:only-of-type {\n",
       "        vertical-align: middle;\n",
       "    }\n",
       "\n",
       "    .dataframe tbody tr th {\n",
       "        vertical-align: top;\n",
       "    }\n",
       "\n",
       "    .dataframe thead th {\n",
       "        text-align: right;\n",
       "    }\n",
       "</style>\n",
       "<table border=\"1\" class=\"dataframe\">\n",
       "  <thead>\n",
       "    <tr style=\"text-align: right;\">\n",
       "      <th></th>\n",
       "      <th>survived</th>\n",
       "      <th>pclass</th>\n",
       "      <th>age</th>\n",
       "      <th>fare</th>\n",
       "      <th>embarked</th>\n",
       "      <th>who</th>\n",
       "      <th>adult_male</th>\n",
       "      <th>alone</th>\n",
       "    </tr>\n",
       "  </thead>\n",
       "  <tbody>\n",
       "    <tr>\n",
       "      <th>0</th>\n",
       "      <td>0.0</td>\n",
       "      <td>2.0</td>\n",
       "      <td>28.0</td>\n",
       "      <td>18.0</td>\n",
       "      <td>2.0</td>\n",
       "      <td>1.0</td>\n",
       "      <td>1.0</td>\n",
       "      <td>0.0</td>\n",
       "    </tr>\n",
       "    <tr>\n",
       "      <th>1</th>\n",
       "      <td>1.0</td>\n",
       "      <td>0.0</td>\n",
       "      <td>51.0</td>\n",
       "      <td>207.0</td>\n",
       "      <td>0.0</td>\n",
       "      <td>2.0</td>\n",
       "      <td>0.0</td>\n",
       "      <td>0.0</td>\n",
       "    </tr>\n",
       "    <tr>\n",
       "      <th>2</th>\n",
       "      <td>1.0</td>\n",
       "      <td>2.0</td>\n",
       "      <td>34.0</td>\n",
       "      <td>41.0</td>\n",
       "      <td>2.0</td>\n",
       "      <td>2.0</td>\n",
       "      <td>0.0</td>\n",
       "      <td>1.0</td>\n",
       "    </tr>\n",
       "    <tr>\n",
       "      <th>3</th>\n",
       "      <td>1.0</td>\n",
       "      <td>0.0</td>\n",
       "      <td>47.0</td>\n",
       "      <td>189.0</td>\n",
       "      <td>2.0</td>\n",
       "      <td>2.0</td>\n",
       "      <td>0.0</td>\n",
       "      <td>0.0</td>\n",
       "    </tr>\n",
       "    <tr>\n",
       "      <th>4</th>\n",
       "      <td>0.0</td>\n",
       "      <td>2.0</td>\n",
       "      <td>47.0</td>\n",
       "      <td>43.0</td>\n",
       "      <td>2.0</td>\n",
       "      <td>1.0</td>\n",
       "      <td>1.0</td>\n",
       "      <td>1.0</td>\n",
       "    </tr>\n",
       "    <tr>\n",
       "      <th>...</th>\n",
       "      <td>...</td>\n",
       "      <td>...</td>\n",
       "      <td>...</td>\n",
       "      <td>...</td>\n",
       "      <td>...</td>\n",
       "      <td>...</td>\n",
       "      <td>...</td>\n",
       "      <td>...</td>\n",
       "    </tr>\n",
       "    <tr>\n",
       "      <th>886</th>\n",
       "      <td>0.0</td>\n",
       "      <td>1.0</td>\n",
       "      <td>35.0</td>\n",
       "      <td>85.0</td>\n",
       "      <td>2.0</td>\n",
       "      <td>1.0</td>\n",
       "      <td>1.0</td>\n",
       "      <td>1.0</td>\n",
       "    </tr>\n",
       "    <tr>\n",
       "      <th>887</th>\n",
       "      <td>1.0</td>\n",
       "      <td>0.0</td>\n",
       "      <td>24.0</td>\n",
       "      <td>153.0</td>\n",
       "      <td>2.0</td>\n",
       "      <td>2.0</td>\n",
       "      <td>0.0</td>\n",
       "      <td>1.0</td>\n",
       "    </tr>\n",
       "    <tr>\n",
       "      <th>888</th>\n",
       "      <td>0.0</td>\n",
       "      <td>2.0</td>\n",
       "      <td>44.8</td>\n",
       "      <td>131.0</td>\n",
       "      <td>2.0</td>\n",
       "      <td>2.0</td>\n",
       "      <td>0.0</td>\n",
       "      <td>0.0</td>\n",
       "    </tr>\n",
       "    <tr>\n",
       "      <th>889</th>\n",
       "      <td>1.0</td>\n",
       "      <td>0.0</td>\n",
       "      <td>34.0</td>\n",
       "      <td>153.0</td>\n",
       "      <td>0.0</td>\n",
       "      <td>1.0</td>\n",
       "      <td>1.0</td>\n",
       "      <td>1.0</td>\n",
       "    </tr>\n",
       "    <tr>\n",
       "      <th>890</th>\n",
       "      <td>0.0</td>\n",
       "      <td>2.0</td>\n",
       "      <td>42.0</td>\n",
       "      <td>30.0</td>\n",
       "      <td>1.0</td>\n",
       "      <td>1.0</td>\n",
       "      <td>1.0</td>\n",
       "      <td>1.0</td>\n",
       "    </tr>\n",
       "  </tbody>\n",
       "</table>\n",
       "<p>891 rows × 8 columns</p>\n",
       "</div>"
      ],
      "text/plain": [
       "     survived  pclass   age   fare  embarked  who  adult_male  alone\n",
       "0         0.0     2.0  28.0   18.0       2.0  1.0         1.0    0.0\n",
       "1         1.0     0.0  51.0  207.0       0.0  2.0         0.0    0.0\n",
       "2         1.0     2.0  34.0   41.0       2.0  2.0         0.0    1.0\n",
       "3         1.0     0.0  47.0  189.0       2.0  2.0         0.0    0.0\n",
       "4         0.0     2.0  47.0   43.0       2.0  1.0         1.0    1.0\n",
       "..        ...     ...   ...    ...       ...  ...         ...    ...\n",
       "886       0.0     1.0  35.0   85.0       2.0  1.0         1.0    1.0\n",
       "887       1.0     0.0  24.0  153.0       2.0  2.0         0.0    1.0\n",
       "888       0.0     2.0  44.8  131.0       2.0  2.0         0.0    0.0\n",
       "889       1.0     0.0  34.0  153.0       0.0  1.0         1.0    1.0\n",
       "890       0.0     2.0  42.0   30.0       1.0  1.0         1.0    1.0\n",
       "\n",
       "[891 rows x 8 columns]"
      ]
     },
     "execution_count": 7,
     "metadata": {},
     "output_type": "execute_result"
    }
   ],
   "source": [
    "from sklearn.impute import KNNImputer\n",
    "imputer= KNNImputer()\n",
    "imputed_data= imputer.fit_transform(df)\n",
    "df=pd.DataFrame(data=imputed_data, columns= df.columns)\n",
    "df"
   ]
  },
  {
   "cell_type": "markdown",
   "id": "8dd21aa4",
   "metadata": {},
   "source": [
    "# Scaling / Normalization"
   ]
  },
  {
   "cell_type": "code",
   "execution_count": 8,
   "id": "1fc9522c",
   "metadata": {},
   "outputs": [
    {
     "data": {
      "text/html": [
       "<div>\n",
       "<style scoped>\n",
       "    .dataframe tbody tr th:only-of-type {\n",
       "        vertical-align: middle;\n",
       "    }\n",
       "\n",
       "    .dataframe tbody tr th {\n",
       "        vertical-align: top;\n",
       "    }\n",
       "\n",
       "    .dataframe thead th {\n",
       "        text-align: right;\n",
       "    }\n",
       "</style>\n",
       "<table border=\"1\" class=\"dataframe\">\n",
       "  <thead>\n",
       "    <tr style=\"text-align: right;\">\n",
       "      <th></th>\n",
       "      <th>survived</th>\n",
       "      <th>pclass</th>\n",
       "      <th>age</th>\n",
       "      <th>fare</th>\n",
       "      <th>embarked</th>\n",
       "      <th>who</th>\n",
       "      <th>adult_male</th>\n",
       "      <th>alone</th>\n",
       "    </tr>\n",
       "  </thead>\n",
       "  <tbody>\n",
       "    <tr>\n",
       "      <th>0</th>\n",
       "      <td>0.0</td>\n",
       "      <td>1.0</td>\n",
       "      <td>0.321839</td>\n",
       "      <td>0.072874</td>\n",
       "      <td>1.0</td>\n",
       "      <td>0.5</td>\n",
       "      <td>1.0</td>\n",
       "      <td>0.0</td>\n",
       "    </tr>\n",
       "    <tr>\n",
       "      <th>1</th>\n",
       "      <td>1.0</td>\n",
       "      <td>0.0</td>\n",
       "      <td>0.586207</td>\n",
       "      <td>0.838057</td>\n",
       "      <td>0.0</td>\n",
       "      <td>1.0</td>\n",
       "      <td>0.0</td>\n",
       "      <td>0.0</td>\n",
       "    </tr>\n",
       "    <tr>\n",
       "      <th>2</th>\n",
       "      <td>1.0</td>\n",
       "      <td>1.0</td>\n",
       "      <td>0.390805</td>\n",
       "      <td>0.165992</td>\n",
       "      <td>1.0</td>\n",
       "      <td>1.0</td>\n",
       "      <td>0.0</td>\n",
       "      <td>1.0</td>\n",
       "    </tr>\n",
       "    <tr>\n",
       "      <th>3</th>\n",
       "      <td>1.0</td>\n",
       "      <td>0.0</td>\n",
       "      <td>0.540230</td>\n",
       "      <td>0.765182</td>\n",
       "      <td>1.0</td>\n",
       "      <td>1.0</td>\n",
       "      <td>0.0</td>\n",
       "      <td>0.0</td>\n",
       "    </tr>\n",
       "    <tr>\n",
       "      <th>4</th>\n",
       "      <td>0.0</td>\n",
       "      <td>1.0</td>\n",
       "      <td>0.540230</td>\n",
       "      <td>0.174089</td>\n",
       "      <td>1.0</td>\n",
       "      <td>0.5</td>\n",
       "      <td>1.0</td>\n",
       "      <td>1.0</td>\n",
       "    </tr>\n",
       "    <tr>\n",
       "      <th>...</th>\n",
       "      <td>...</td>\n",
       "      <td>...</td>\n",
       "      <td>...</td>\n",
       "      <td>...</td>\n",
       "      <td>...</td>\n",
       "      <td>...</td>\n",
       "      <td>...</td>\n",
       "      <td>...</td>\n",
       "    </tr>\n",
       "    <tr>\n",
       "      <th>886</th>\n",
       "      <td>0.0</td>\n",
       "      <td>0.5</td>\n",
       "      <td>0.402299</td>\n",
       "      <td>0.344130</td>\n",
       "      <td>1.0</td>\n",
       "      <td>0.5</td>\n",
       "      <td>1.0</td>\n",
       "      <td>1.0</td>\n",
       "    </tr>\n",
       "    <tr>\n",
       "      <th>887</th>\n",
       "      <td>1.0</td>\n",
       "      <td>0.0</td>\n",
       "      <td>0.275862</td>\n",
       "      <td>0.619433</td>\n",
       "      <td>1.0</td>\n",
       "      <td>1.0</td>\n",
       "      <td>0.0</td>\n",
       "      <td>1.0</td>\n",
       "    </tr>\n",
       "    <tr>\n",
       "      <th>888</th>\n",
       "      <td>0.0</td>\n",
       "      <td>1.0</td>\n",
       "      <td>0.514943</td>\n",
       "      <td>0.530364</td>\n",
       "      <td>1.0</td>\n",
       "      <td>1.0</td>\n",
       "      <td>0.0</td>\n",
       "      <td>0.0</td>\n",
       "    </tr>\n",
       "    <tr>\n",
       "      <th>889</th>\n",
       "      <td>1.0</td>\n",
       "      <td>0.0</td>\n",
       "      <td>0.390805</td>\n",
       "      <td>0.619433</td>\n",
       "      <td>0.0</td>\n",
       "      <td>0.5</td>\n",
       "      <td>1.0</td>\n",
       "      <td>1.0</td>\n",
       "    </tr>\n",
       "    <tr>\n",
       "      <th>890</th>\n",
       "      <td>0.0</td>\n",
       "      <td>1.0</td>\n",
       "      <td>0.482759</td>\n",
       "      <td>0.121457</td>\n",
       "      <td>0.5</td>\n",
       "      <td>0.5</td>\n",
       "      <td>1.0</td>\n",
       "      <td>1.0</td>\n",
       "    </tr>\n",
       "  </tbody>\n",
       "</table>\n",
       "<p>891 rows × 8 columns</p>\n",
       "</div>"
      ],
      "text/plain": [
       "     survived  pclass       age      fare  embarked  who  adult_male  alone\n",
       "0         0.0     1.0  0.321839  0.072874       1.0  0.5         1.0    0.0\n",
       "1         1.0     0.0  0.586207  0.838057       0.0  1.0         0.0    0.0\n",
       "2         1.0     1.0  0.390805  0.165992       1.0  1.0         0.0    1.0\n",
       "3         1.0     0.0  0.540230  0.765182       1.0  1.0         0.0    0.0\n",
       "4         0.0     1.0  0.540230  0.174089       1.0  0.5         1.0    1.0\n",
       "..        ...     ...       ...       ...       ...  ...         ...    ...\n",
       "886       0.0     0.5  0.402299  0.344130       1.0  0.5         1.0    1.0\n",
       "887       1.0     0.0  0.275862  0.619433       1.0  1.0         0.0    1.0\n",
       "888       0.0     1.0  0.514943  0.530364       1.0  1.0         0.0    0.0\n",
       "889       1.0     0.0  0.390805  0.619433       0.0  0.5         1.0    1.0\n",
       "890       0.0     1.0  0.482759  0.121457       0.5  0.5         1.0    1.0\n",
       "\n",
       "[891 rows x 8 columns]"
      ]
     },
     "execution_count": 8,
     "metadata": {},
     "output_type": "execute_result"
    }
   ],
   "source": [
    "from sklearn.preprocessing import MinMaxScaler\n",
    "scaler= MinMaxScaler()\n",
    "scaled_dataset= scaler.fit_transform(df)\n",
    "df= pd.DataFrame(data= scaled_dataset, columns=df.columns)\n",
    "df"
   ]
  },
  {
   "cell_type": "markdown",
   "id": "c9140205",
   "metadata": {},
   "source": [
    "# Feature Selection using Heatmap and Correlation\n"
   ]
  },
  {
   "cell_type": "markdown",
   "id": "477cef04",
   "metadata": {},
   "source": [
    "* For Feature Selection, we adopt the manual method using heatmap. In this method, we check the correlation of each variable with the target variable and those variables with high correlation are retained and the rest are dropped. \n",
    "\n",
    "* The columns having multi collinearity (a common phenomenon in feature selection where independent column have high correlation among themselves) are observed for their relevance with the target column(survived in this case) and the column with more correlation with the target variable is chosen and the other one is dropped.  "
   ]
  },
  {
   "cell_type": "code",
   "execution_count": 9,
   "id": "3a535f7f",
   "metadata": {},
   "outputs": [
    {
     "data": {
      "image/png": "[encoded data removed]",
      "text/plain": [
       "<Figure size 1000x600 with 2 Axes>"
      ]
     },
     "metadata": {},
     "output_type": "display_data"
    }
   ],
   "source": [
    "import seaborn as sns\n",
    "import matplotlib.pyplot as plt\n",
    "correlations= df.corr()\n",
    "plt.figure(figsize=(10, 6)) \n",
    "sns.heatmap(correlations, annot=True, cmap='coolwarm', linewidths=0.5)\n",
    "\n",
    "\n",
    "plt.show()"
   ]
  },
  {
   "cell_type": "markdown",
   "id": "adbad6cb",
   "metadata": {},
   "source": [
    "# Train Test Split"
   ]
  },
  {
   "cell_type": "code",
   "execution_count": 10,
   "id": "735f8689",
   "metadata": {},
   "outputs": [],
   "source": [
    "from sklearn.model_selection import train_test_split\n",
    "X= df.drop('survived', axis=1)\n",
    "Y= df['survived']\n",
    "X_train, X_test, Y_train, Y_test= train_test_split(X,Y, test_size= 0.2, random_state=42)"
   ]
  },
  {
   "cell_type": "code",
   "execution_count": 11,
   "id": "b6ee130d",
   "metadata": {},
   "outputs": [
    {
     "data": {
      "text/plain": [
       "(891, 8)"
      ]
     },
     "execution_count": 11,
     "metadata": {},
     "output_type": "execute_result"
    }
   ],
   "source": [
    "df.shape"
   ]
  },
  {
   "cell_type": "markdown",
   "id": "6c091a8b",
   "metadata": {},
   "source": [
    "# Neural Network Classifier\n"
   ]
  },
  {
   "cell_type": "code",
   "execution_count": 12,
   "id": "7154fba8",
   "metadata": {},
   "outputs": [
    {
     "name": "stderr",
     "output_type": "stream",
     "text": [
      "C:\\Users\\PMLS\\OneDrive - Higher Education Commission\\Documents\\University Work\\FYP\\Feasibility Study\\feasibility\\Lib\\site-packages\\keras\\src\\layers\\core\\dense.py:87: UserWarning: Do not pass an `input_shape`/`input_dim` argument to a layer. When using Sequential models, prefer using an `Input(shape)` object as the first layer in the model instead.\n",
      "  super().__init__(activity_regularizer=activity_regularizer, **kwargs)\n"
     ]
    },
    {
     "name": "stdout",
     "output_type": "stream",
     "text": [
      "Epoch 1/5\n",
      "\u001b[1m24/24\u001b[0m \u001b[32m━━━━━━━━━━━━━━━━━━━━\u001b[0m\u001b[37m\u001b[0m \u001b[1m5s\u001b[0m 9ms/step - accuracy: 0.6028 - loss: 0.6659\n",
      "Epoch 2/5\n",
      "\u001b[1m24/24\u001b[0m \u001b[32m━━━━━━━━━━━━━━━━━━━━\u001b[0m\u001b[37m\u001b[0m \u001b[1m0s\u001b[0m 12ms/step - accuracy: 0.7151 - loss: 0.6117\n",
      "Epoch 3/5\n",
      "\u001b[1m24/24\u001b[0m \u001b[32m━━━━━━━━━━━━━━━━━━━━\u001b[0m\u001b[37m\u001b[0m \u001b[1m0s\u001b[0m 7ms/step - accuracy: 0.7240 - loss: 0.5783\n",
      "Epoch 4/5\n",
      "\u001b[1m24/24\u001b[0m \u001b[32m━━━━━━━━━━━━━━━━━━━━\u001b[0m\u001b[37m\u001b[0m \u001b[1m0s\u001b[0m 9ms/step - accuracy: 0.7191 - loss: 0.5669\n",
      "Epoch 5/5\n",
      "\u001b[1m24/24\u001b[0m \u001b[32m━━━━━━━━━━━━━━━━━━━━\u001b[0m\u001b[37m\u001b[0m \u001b[1m0s\u001b[0m 6ms/step - accuracy: 0.7669 - loss: 0.5302\n",
      "\u001b[1m6/6\u001b[0m \u001b[32m━━━━━━━━━━━━━━━━━━━━\u001b[0m\u001b[37m\u001b[0m \u001b[1m0s\u001b[0m 33ms/step\n",
      "The accuracy is:  0.7430167597765364\n"
     ]
    }
   ],
   "source": [
    "import tensorflow as tf\n",
    "from tensorflow.keras.models import Sequential\n",
    "from tensorflow.keras.layers import Dense, Dropout\n",
    "from sklearn.metrics import accuracy_score\n",
    "\n",
    "model = Sequential([\n",
    "    Dense(32, input_shape=(X_train.shape[1],), activation='relu'),  # Input layer with 16 units\n",
    "    Dropout(0.2),  \n",
    "    Dense(16, activation='relu'),  \n",
    "    Dense(1, activation='sigmoid')  ])\n",
    "\n",
    "\n",
    "model.compile(optimizer='adam', loss='binary_crossentropy', metrics=['accuracy'])\n",
    "\n",
    "model.fit(X_train, Y_train, epochs=5, batch_size=30)\n",
    "predicted=model.predict(X_test)\n",
    "predicted = (predicted > 0.5).astype(int)\n",
    "accuracy= accuracy_score(Y_test, predicted)\n",
    "print('The accuracy is: ', accuracy)"
   ]
  },
  {
   "cell_type": "markdown",
   "id": "fc294e20",
   "metadata": {},
   "source": [
    "# SVM Classifier\n"
   ]
  },
  {
   "cell_type": "markdown",
   "id": "b6fc8e89",
   "metadata": {},
   "source": [
    "* For SVM, we use 2 types of kernels. Kernels are actually "
   ]
  },
  {
   "cell_type": "code",
   "execution_count": 13,
   "id": "3c866b9c",
   "metadata": {},
   "outputs": [],
   "source": [
    "from sklearn.svm import SVC\n",
    "svm_linear= SVC(kernel= 'linear')\n",
    "svm_linear.fit(X_train, Y_train)\n",
    "svml_predictions= svm_linear.predict(X_test)"
   ]
  },
  {
   "cell_type": "code",
   "execution_count": 14,
   "id": "c2c963fe",
   "metadata": {},
   "outputs": [],
   "source": [
    "\n",
    "svm_rbf= SVC(kernel= 'rbf')\n",
    "svm_rbf.fit(X_train, Y_train)\n",
    "svmrbf_predictions= svm_rbf.predict(X_test)"
   ]
  },
  {
   "cell_type": "markdown",
   "id": "7cce642a",
   "metadata": {},
   "source": [
    "# Evaluation metrics"
   ]
  },
  {
   "cell_type": "code",
   "execution_count": 15,
   "id": "511b2f82",
   "metadata": {},
   "outputs": [
    {
     "name": "stdout",
     "output_type": "stream",
     "text": [
      "Linear Kernel- Precision: 0.74, Recall: 0.74, F1-Score: 0.74, ROC AUC Score: 0.78\n",
      "RBF Kernel- Precision: 0.81, Recall: 0.68, F1-Score: 0.74, ROC AUC Score: 0.78\n"
     ]
    }
   ],
   "source": [
    "from sklearn.metrics import precision_score, recall_score, f1_score, roc_auc_score\n",
    "# Precision here\n",
    "precision_svml= precision_score(Y_test, svml_predictions)\n",
    "precision_svmrbf=precision_score(Y_test, svmrbf_predictions)\n",
    "\n",
    "# Recall here\n",
    "recall_svml= recall_score(Y_test, svml_predictions)\n",
    "recall_svmrbf=recall_score(Y_test, svmrbf_predictions)\n",
    "\n",
    "# F1 score here\n",
    "f1score_svml= f1_score(Y_test, svml_predictions)\n",
    "f1score_svmrbf=f1_score(Y_test, svmrbf_predictions)\n",
    "\n",
    "# Roc Auc here\n",
    "roc_auc_score_svml= roc_auc_score(Y_test, svml_predictions)\n",
    "roc_auc_score_svmrbf=roc_auc_score(Y_test, svmrbf_predictions)\n",
    "\n",
    "\n",
    "print(f\"Linear Kernel- Precision: {precision_svml:.2f}, Recall: {recall_svml:.2f}, F1-Score: {f1score_svml:.2f}, ROC AUC Score: {roc_auc_score_svml:.2f}\")\n",
    "print(f\"RBF Kernel- Precision: {precision_svmrbf:.2f}, Recall: {recall_svmrbf:.2f}, F1-Score: {f1score_svmrbf:.2f}, ROC AUC Score: {roc_auc_score_svmrbf:.2f}\")\n",
    "\n"
   ]
  },
  {
   "cell_type": "markdown",
   "id": "3291a4fc",
   "metadata": {},
   "source": [
    "* As we see, both the kernels give almost the same performance in terms of accuracy and AUC metric.\n",
    "* The performance of the SVM model is slightly better than the Neural network model although overall, the performance is not good as the accuracy is below 80% whereas this dataset has the potential to provide near 99% accuracy with even a slightly complex model\n",
    "* The architecture of the NN has been kept simple to check its comparison with the NN created in the Naive Bayes comparison file which is also part of this repository."
   ]
  },
  {
   "cell_type": "code",
   "execution_count": null,
   "id": "9fa40caf",
   "metadata": {},
   "outputs": [],
   "source": []
  },
  {
   "cell_type": "code",
   "execution_count": null,
   "id": "850b06df",
   "metadata": {},
   "outputs": [],
   "source": []
  },
  {
   "cell_type": "code",
   "execution_count": null,
   "id": "350038df",
   "metadata": {},
   "outputs": [],
   "source": []
  }
 ],
 "metadata": {
  "kernelspec": {
   "display_name": "feasibility",
   "language": "python",
   "name": "feasibility"
  },
  "language_info": {
   "codemirror_mode": {
    "name": "ipython",
    "version": 3
   },
   "file_extension": ".py",
   "mimetype": "text/x-python",
   "name": "python",
   "nbconvert_exporter": "python",
   "pygments_lexer": "ipython3",
   "version": "3.12.1"
  },
  "varInspector": {
   "cols": {
    "lenName": 16,
    "lenType": 16,
    "lenVar": 40
   },
   "kernels_config": {
    "python": {
     "delete_cmd_postfix": "",
     "delete_cmd_prefix": "del ",
     "library": "var_list.py",
     "varRefreshCmd": "print(var_dic_list())"
    },
    "r": {
     "delete_cmd_postfix": ") ",
     "delete_cmd_prefix": "rm(",
     "library": "var_list.r",
     "varRefreshCmd": "cat(var_dic_list()) "
    }
   },
   "types_to_exclude": [
    "module",
    "function",
    "builtin_function_or_method",
    "instance",
    "_Feature"
   ],
   "window_display": false
  }
 },
 "nbformat": 4,
 "nbformat_minor": 5
}
